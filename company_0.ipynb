{
 "cells": [
  {
   "cell_type": "code",
   "execution_count": 1,
   "metadata": {},
   "outputs": [],
   "source": [
    "import pandas as pd\n",
    "import numpy as np"
   ]
  },
  {
   "cell_type": "code",
   "execution_count": 2,
   "metadata": {},
   "outputs": [],
   "source": [
    "df = pd.read_csv('train.csv')\n",
    "df = df[df['Company'] == \"Company_0\"]"
   ]
  },
  {
   "cell_type": "code",
   "execution_count": 4,
   "metadata": {},
   "outputs": [],
   "source": [
    "close = df['Close'].values.reshape(-1,1)"
   ]
  },
  {
   "cell_type": "code",
   "execution_count": 5,
   "metadata": {},
   "outputs": [
    {
     "data": {
      "text/plain": [
       "array([[0.23270468],\n",
       "       [0.23845842],\n",
       "       [0.23174641],\n",
       "       ...,\n",
       "       [0.75649492],\n",
       "       [0.73298665],\n",
       "       [0.73956693]])"
      ]
     },
     "execution_count": 5,
     "metadata": {},
     "output_type": "execute_result"
    }
   ],
   "source": [
    "from sklearn.preprocessing import MinMaxScaler\n",
    "scaler=MinMaxScaler(feature_range=(0,1))\n",
    "close_scaled=scaler.fit_transform(close)\n",
    "close_scaled"
   ]
  },
  {
   "cell_type": "code",
   "execution_count": 6,
   "metadata": {},
   "outputs": [],
   "source": [
    "def create_seq(data,time_step=60):\n",
    "    X=[]\n",
    "    y=[]\n",
    "    for i in range(len(data)-time_step):\n",
    "        X.append(data[i:(i+time_step)])\n",
    "        y.append(data[i+time_step])\n",
    "    return X,y"
   ]
  },
  {
   "cell_type": "code",
   "execution_count": 7,
   "metadata": {},
   "outputs": [],
   "source": [
    "time_step=60\n",
    "X,y=create_seq(close_scaled, time_step)"
   ]
  },
  {
   "cell_type": "code",
   "execution_count": 8,
   "metadata": {},
   "outputs": [],
   "source": [
    "X=np.array(X)\n",
    "X=X.reshape(X.shape[0],X.shape[1],1)\n",
    "y=np.array(y)"
   ]
  },
  {
   "cell_type": "code",
   "execution_count": 9,
   "metadata": {},
   "outputs": [
    {
     "data": {
      "text/plain": [
       "(1176, 60, 1)"
      ]
     },
     "execution_count": 9,
     "metadata": {},
     "output_type": "execute_result"
    }
   ],
   "source": [
    "X.shape"
   ]
  },
  {
   "cell_type": "code",
   "execution_count": 10,
   "metadata": {},
   "outputs": [
    {
     "data": {
      "text/plain": [
       "(1176, 1)"
      ]
     },
     "execution_count": 10,
     "metadata": {},
     "output_type": "execute_result"
    }
   ],
   "source": [
    "y.shape"
   ]
  },
  {
   "cell_type": "code",
   "execution_count": 11,
   "metadata": {},
   "outputs": [],
   "source": [
    "X_train, y_train = X,y"
   ]
  },
  {
   "cell_type": "code",
   "execution_count": 12,
   "metadata": {},
   "outputs": [
    {
     "name": "stdout",
     "output_type": "stream",
     "text": [
      "WARNING:tensorflow:From c:\\Users\\gscha\\anaconda3\\envs\\cuda_torch\\Lib\\site-packages\\keras\\src\\losses.py:2976: The name tf.losses.sparse_softmax_cross_entropy is deprecated. Please use tf.compat.v1.losses.sparse_softmax_cross_entropy instead.\n",
      "\n",
      "WARNING:tensorflow:From c:\\Users\\gscha\\anaconda3\\envs\\cuda_torch\\Lib\\site-packages\\keras\\src\\backend.py:873: The name tf.get_default_graph is deprecated. Please use tf.compat.v1.get_default_graph instead.\n",
      "\n",
      "Model: \"sequential\"\n",
      "_________________________________________________________________\n",
      " Layer (type)                Output Shape              Param #   \n",
      "=================================================================\n",
      " bidirectional (Bidirection  (None, 60, 256)           133120    \n",
      " al)                                                             \n",
      "                                                                 \n",
      " bidirectional_1 (Bidirecti  (None, 60, 128)           164352    \n",
      " onal)                                                           \n",
      "                                                                 \n",
      " bidirectional_2 (Bidirecti  (None, 64)                41216     \n",
      " onal)                                                           \n",
      "                                                                 \n",
      " dense (Dense)               (None, 16)                1040      \n",
      "                                                                 \n",
      " dense_1 (Dense)             (None, 1)                 17        \n",
      "                                                                 \n",
      "=================================================================\n",
      "Total params: 339745 (1.30 MB)\n",
      "Trainable params: 339745 (1.30 MB)\n",
      "Non-trainable params: 0 (0.00 Byte)\n",
      "_________________________________________________________________\n"
     ]
    }
   ],
   "source": [
    "from tensorflow.keras.models import Sequential\n",
    "from tensorflow.keras.layers import LSTM, Dense, Bidirectional\n",
    "from tensorflow import keras\n",
    "\n",
    "model = Sequential()\n",
    "model.add(Bidirectional(LSTM(128, return_sequences=True), input_shape=X_train[0].shape))\n",
    "model.add(Bidirectional(LSTM(64, return_sequences=True)))\n",
    "model.add(Bidirectional(LSTM(32)))\n",
    "model.add(Dense(16, activation='relu'))\n",
    "model.add(Dense(1))\n",
    "\n",
    "# Compile the model\n",
    "model.compile(optimizer=keras.optimizers.Adam(learning_rate=0.001),\n",
    "              loss=\"mean_squared_error\",\n",
    "              metrics=[keras.metrics.MeanSquaredError()])\n",
    "\n",
    "# Display the model summary\n",
    "model.summary()"
   ]
  },
  {
   "cell_type": "code",
   "execution_count": 13,
   "metadata": {},
   "outputs": [
    {
     "name": "stdout",
     "output_type": "stream",
     "text": [
      "Epoch 1/2\n",
      "WARNING:tensorflow:From c:\\Users\\gscha\\anaconda3\\envs\\cuda_torch\\Lib\\site-packages\\keras\\src\\utils\\tf_utils.py:492: The name tf.ragged.RaggedTensorValue is deprecated. Please use tf.compat.v1.ragged.RaggedTensorValue instead.\n",
      "\n",
      "37/37 [==============================] - 12s 73ms/step - loss: 0.0141 - mean_squared_error: 0.0141\n",
      "Epoch 2/2\n",
      "37/37 [==============================] - 2s 65ms/step - loss: 0.0022 - mean_squared_error: 0.0022\n"
     ]
    },
    {
     "data": {
      "text/plain": [
       "<keras.src.callbacks.History at 0x254975eae10>"
      ]
     },
     "execution_count": 13,
     "metadata": {},
     "output_type": "execute_result"
    }
   ],
   "source": [
    "model.fit(X_train,y_train,epochs=2)"
   ]
  },
  {
   "cell_type": "code",
   "execution_count": 14,
   "metadata": {},
   "outputs": [],
   "source": [
    "preds = X_train[-1].squeeze()"
   ]
  },
  {
   "cell_type": "code",
   "execution_count": 15,
   "metadata": {},
   "outputs": [
    {
     "name": "stdout",
     "output_type": "stream",
     "text": [
      "1/1 [==============================] - 2s 2s/step\n",
      "1/1 [==============================] - 0s 29ms/step\n",
      "1/1 [==============================] - 0s 27ms/step\n",
      "1/1 [==============================] - 0s 23ms/step\n",
      "1/1 [==============================] - 0s 27ms/step\n",
      "1/1 [==============================] - 0s 25ms/step\n",
      "1/1 [==============================] - 0s 30ms/step\n",
      "1/1 [==============================] - 0s 25ms/step\n",
      "1/1 [==============================] - 0s 26ms/step\n",
      "1/1 [==============================] - 0s 27ms/step\n",
      "1/1 [==============================] - 0s 27ms/step\n",
      "1/1 [==============================] - 0s 25ms/step\n",
      "1/1 [==============================] - 0s 26ms/step\n",
      "1/1 [==============================] - 0s 29ms/step\n",
      "1/1 [==============================] - 0s 26ms/step\n",
      "1/1 [==============================] - 0s 26ms/step\n",
      "1/1 [==============================] - 0s 28ms/step\n",
      "1/1 [==============================] - 0s 26ms/step\n",
      "1/1 [==============================] - 0s 25ms/step\n",
      "1/1 [==============================] - 0s 29ms/step\n",
      "1/1 [==============================] - 0s 25ms/step\n",
      "1/1 [==============================] - 0s 26ms/step\n",
      "1/1 [==============================] - 0s 25ms/step\n",
      "1/1 [==============================] - 0s 26ms/step\n",
      "1/1 [==============================] - 0s 24ms/step\n",
      "1/1 [==============================] - 0s 28ms/step\n",
      "1/1 [==============================] - 0s 24ms/step\n",
      "1/1 [==============================] - 0s 28ms/step\n",
      "1/1 [==============================] - 0s 27ms/step\n",
      "1/1 [==============================] - 0s 25ms/step\n",
      "1/1 [==============================] - 0s 28ms/step\n",
      "1/1 [==============================] - 0s 25ms/step\n",
      "1/1 [==============================] - 0s 25ms/step\n",
      "1/1 [==============================] - 0s 26ms/step\n",
      "1/1 [==============================] - 0s 31ms/step\n",
      "1/1 [==============================] - 0s 24ms/step\n",
      "1/1 [==============================] - 0s 24ms/step\n",
      "1/1 [==============================] - 0s 22ms/step\n",
      "1/1 [==============================] - 0s 23ms/step\n",
      "1/1 [==============================] - 0s 26ms/step\n",
      "1/1 [==============================] - 0s 25ms/step\n",
      "1/1 [==============================] - 0s 23ms/step\n",
      "1/1 [==============================] - 0s 26ms/step\n",
      "1/1 [==============================] - 0s 23ms/step\n",
      "1/1 [==============================] - 0s 22ms/step\n",
      "1/1 [==============================] - 0s 24ms/step\n",
      "1/1 [==============================] - 0s 26ms/step\n",
      "1/1 [==============================] - 0s 26ms/step\n",
      "1/1 [==============================] - 0s 25ms/step\n",
      "1/1 [==============================] - 0s 25ms/step\n",
      "1/1 [==============================] - 0s 26ms/step\n",
      "1/1 [==============================] - 0s 26ms/step\n",
      "1/1 [==============================] - 0s 25ms/step\n",
      "1/1 [==============================] - 0s 24ms/step\n",
      "1/1 [==============================] - 0s 25ms/step\n",
      "1/1 [==============================] - 0s 25ms/step\n",
      "1/1 [==============================] - 0s 25ms/step\n",
      "1/1 [==============================] - 0s 26ms/step\n",
      "1/1 [==============================] - 0s 24ms/step\n",
      "1/1 [==============================] - 0s 24ms/step\n",
      "1/1 [==============================] - 0s 23ms/step\n",
      "1/1 [==============================] - 0s 23ms/step\n",
      "1/1 [==============================] - 0s 25ms/step\n",
      "1/1 [==============================] - 0s 25ms/step\n",
      "1/1 [==============================] - 0s 26ms/step\n",
      "1/1 [==============================] - 0s 24ms/step\n",
      "1/1 [==============================] - 0s 25ms/step\n",
      "1/1 [==============================] - 0s 24ms/step\n",
      "1/1 [==============================] - 0s 25ms/step\n",
      "1/1 [==============================] - 0s 25ms/step\n",
      "1/1 [==============================] - 0s 25ms/step\n",
      "1/1 [==============================] - 0s 27ms/step\n",
      "1/1 [==============================] - 0s 25ms/step\n",
      "1/1 [==============================] - 0s 26ms/step\n",
      "1/1 [==============================] - 0s 26ms/step\n",
      "1/1 [==============================] - 0s 23ms/step\n",
      "1/1 [==============================] - 0s 22ms/step\n",
      "1/1 [==============================] - 0s 25ms/step\n",
      "1/1 [==============================] - 0s 24ms/step\n",
      "1/1 [==============================] - 0s 27ms/step\n",
      "1/1 [==============================] - 0s 23ms/step\n",
      "1/1 [==============================] - 0s 24ms/step\n",
      "1/1 [==============================] - 0s 25ms/step\n",
      "1/1 [==============================] - 0s 23ms/step\n",
      "1/1 [==============================] - 0s 23ms/step\n",
      "1/1 [==============================] - 0s 27ms/step\n",
      "1/1 [==============================] - 0s 22ms/step\n",
      "1/1 [==============================] - 0s 63ms/step\n",
      "1/1 [==============================] - 0s 32ms/step\n",
      "1/1 [==============================] - 0s 25ms/step\n",
      "1/1 [==============================] - 0s 23ms/step\n",
      "1/1 [==============================] - 0s 24ms/step\n",
      "1/1 [==============================] - 0s 26ms/step\n",
      "1/1 [==============================] - 0s 27ms/step\n",
      "1/1 [==============================] - 0s 24ms/step\n",
      "1/1 [==============================] - 0s 24ms/step\n"
     ]
    },
    {
     "data": {
      "text/plain": [
       "array([0.8388271 , 0.85586473, 0.83388163, 0.81375553, 0.82711928,\n",
       "       0.83899777, 0.83278449, 0.83964447, 0.8250737 , 0.79331037,\n",
       "       0.80131904, 0.80982128, 0.8298041 , 0.80140412, 0.76433877,\n",
       "       0.78057983, 0.80830442, 0.80669684, 0.80386641, 0.83040136,\n",
       "       0.80997686, 0.8217295 , 0.81713137, 0.84012877, 0.82582112,\n",
       "       0.83467007, 0.84448467, 0.81720711, 0.81416991, 0.8366099 ,\n",
       "       0.81418203, 0.81883029, 0.82486615, 0.83199224, 0.82485605,\n",
       "       0.81983661, 0.8092236 , 0.79280814, 0.80775692, 0.78738379,\n",
       "       0.80818195, 0.79461569, 0.79024014, 0.79068697, 0.78782302,\n",
       "       0.79056361, 0.80248816, 0.78594792, 0.81617617, 0.76274676,\n",
       "       0.73166643, 0.75135974, 0.7594784 , 0.74805825, 0.79548549,\n",
       "       0.80166848, 0.76914291, 0.77026662, 0.75649492, 0.73298665,\n",
       "       0.73394179, 0.7314744 , 0.72882795, 0.72605604, 0.7231617 ,\n",
       "       0.72017092, 0.71714491, 0.71413255, 0.71117973, 0.708327  ,\n",
       "       0.70556313, 0.70287883, 0.70030254, 0.69788396, 0.69564241,\n",
       "       0.69351619, 0.69146138, 0.68949986, 0.6876446 , 0.68587607,\n",
       "       0.68420595, 0.68262959, 0.68112689, 0.67968905, 0.67832476,\n",
       "       0.6770376 , 0.67581832, 0.67468852, 0.67363465, 0.67261946,\n",
       "       0.67165577, 0.67074257, 0.66985762, 0.66900706, 0.66820931,\n",
       "       0.66747642, 0.66680992, 0.6662063 , 0.66564196, 0.66511363,\n",
       "       0.66461629, 0.66414636, 0.66371679, 0.66331017, 0.66292089,\n",
       "       0.66254675, 0.66218734, 0.66186517, 0.66159117, 0.6613934 ,\n",
       "       0.66128659, 0.66117543, 0.66101295, 0.66080731, 0.66053718,\n",
       "       0.66021466, 0.65992159, 0.65967059, 0.65944421, 0.65925759,\n",
       "       0.65909106, 0.65891957, 0.65874732, 0.6585753 , 0.65840375,\n",
       "       0.6582337 , 0.65806514, 0.6578989 , 0.65773523, 0.65757388,\n",
       "       0.65741539, 0.65725958, 0.65710646, 0.65695614, 0.65680796,\n",
       "       0.65666229, 0.656519  , 0.65637827, 0.65623987, 0.65610379,\n",
       "       0.65597016, 0.65583897, 0.65571016, 0.65558362, 0.65545952,\n",
       "       0.65533799, 0.6552189 , 0.6551019 , 0.65498757, 0.6548757 ,\n",
       "       0.6547662 , 0.65465939, 0.6545555 , 0.65445423, 0.65435582,\n",
       "       0.6542604 ])"
      ]
     },
     "execution_count": 15,
     "metadata": {},
     "output_type": "execute_result"
    }
   ],
   "source": [
    "\n",
    "for i in range(96):\n",
    "    x = preds[i:i+60].reshape(60,1)\n",
    "    x = np.expand_dims(x, 0)\n",
    "    preds = np.append(preds, model.predict(x))\n",
    "\n",
    "preds"
   ]
  },
  {
   "cell_type": "code",
   "execution_count": 20,
   "metadata": {},
   "outputs": [
    {
     "data": {
      "text/plain": [
       "array([265.88205917, 265.37027039, 264.82134242, 264.24638984,\n",
       "       263.64604315, 263.02569273, 262.39803564, 261.77320974,\n",
       "       261.16073471, 260.56901756, 259.99573401, 259.43895539,\n",
       "       258.90457897, 258.40291568, 257.93797122, 257.49694964,\n",
       "       257.07073922, 256.66387728, 256.279059  , 255.91222923,\n",
       "       255.56581118, 255.23884051, 254.9271508 , 254.62891231,\n",
       "       254.34593005, 254.07894583, 253.82604335, 253.59169809,\n",
       "       253.3731036 , 253.16253285, 252.96264395, 252.77322671,\n",
       "       252.58966965, 252.41324618, 252.24777655, 252.09575812,\n",
       "       251.95751234, 251.83230979, 251.71525461, 251.60566683,\n",
       "       251.50250793, 251.40503613, 251.31593424, 251.2315922 ,\n",
       "       251.15084787, 251.07324379, 250.99869344, 250.93187012,\n",
       "       250.87503629, 250.83401505, 250.81186012, 250.78880268,\n",
       "       250.75510048, 250.71244729, 250.65641708, 250.58951957,\n",
       "       250.52872951, 250.4766679 , 250.4297123 , 250.39100299,\n",
       "       250.35646009, 250.32089104, 250.28516127, 250.24948095,\n",
       "       250.21389954, 250.17862721, 250.14366396, 250.10918288,\n",
       "       250.07523342, 250.04176612, 250.00889226, 249.97657474,\n",
       "       249.94481357, 249.91363347, 249.88289845, 249.85268269,\n",
       "       249.82296145, 249.79377184, 249.76506439, 249.73683911,\n",
       "       249.70912072, 249.68190922, 249.65519225, 249.62894509,\n",
       "       249.60320482, 249.57799617, 249.55329441, 249.52902537,\n",
       "       249.50531267, 249.48210686, 249.45939558, 249.43724065,\n",
       "       249.41569152, 249.39468637, 249.37427466, 249.35448111])"
      ]
     },
     "execution_count": 20,
     "metadata": {},
     "output_type": "execute_result"
    }
   ],
   "source": [
    "final_output = preds[60:]\n",
    "final_output = scaler.inverse_transform(final_output.reshape(-1,1)).squeeze()\n",
    "final_output"
   ]
  },
  {
   "cell_type": "code",
   "execution_count": 57,
   "metadata": {},
   "outputs": [],
   "source": [
    "company_0 = pd.DataFrame(columns = [['Id', 'Close']])"
   ]
  },
  {
   "cell_type": "code",
   "execution_count": 58,
   "metadata": {},
   "outputs": [],
   "source": [
    "test = pd.read_csv('test.csv')\n",
    "test = test[test['Company'] == \"Company_0\"]"
   ]
  },
  {
   "cell_type": "code",
   "execution_count": 59,
   "metadata": {},
   "outputs": [],
   "source": [
    "test = test.reset_index()"
   ]
  },
  {
   "cell_type": "code",
   "execution_count": 60,
   "metadata": {},
   "outputs": [],
   "source": [
    "company_0['Id'] = test['Id']"
   ]
  },
  {
   "cell_type": "code",
   "execution_count": 61,
   "metadata": {},
   "outputs": [],
   "source": [
    "company_0['Close'] = pd.Series(final_output)"
   ]
  },
  {
   "cell_type": "code",
   "execution_count": 62,
   "metadata": {},
   "outputs": [
    {
     "data": {
      "text/html": [
       "<div>\n",
       "<style scoped>\n",
       "    .dataframe tbody tr th:only-of-type {\n",
       "        vertical-align: middle;\n",
       "    }\n",
       "\n",
       "    .dataframe tbody tr th {\n",
       "        vertical-align: top;\n",
       "    }\n",
       "\n",
       "    .dataframe thead tr th {\n",
       "        text-align: left;\n",
       "    }\n",
       "</style>\n",
       "<table border=\"1\" class=\"dataframe\">\n",
       "  <thead>\n",
       "    <tr>\n",
       "      <th></th>\n",
       "      <th>Id</th>\n",
       "      <th>Close</th>\n",
       "    </tr>\n",
       "  </thead>\n",
       "  <tbody>\n",
       "    <tr>\n",
       "      <th>0</th>\n",
       "      <td>0</td>\n",
       "      <td>265.882059</td>\n",
       "    </tr>\n",
       "    <tr>\n",
       "      <th>1</th>\n",
       "      <td>6</td>\n",
       "      <td>265.370270</td>\n",
       "    </tr>\n",
       "    <tr>\n",
       "      <th>2</th>\n",
       "      <td>12</td>\n",
       "      <td>264.821342</td>\n",
       "    </tr>\n",
       "    <tr>\n",
       "      <th>3</th>\n",
       "      <td>18</td>\n",
       "      <td>264.246390</td>\n",
       "    </tr>\n",
       "    <tr>\n",
       "      <th>4</th>\n",
       "      <td>24</td>\n",
       "      <td>263.646043</td>\n",
       "    </tr>\n",
       "    <tr>\n",
       "      <th>...</th>\n",
       "      <td>...</td>\n",
       "      <td>...</td>\n",
       "    </tr>\n",
       "    <tr>\n",
       "      <th>91</th>\n",
       "      <td>546</td>\n",
       "      <td>249.437241</td>\n",
       "    </tr>\n",
       "    <tr>\n",
       "      <th>92</th>\n",
       "      <td>552</td>\n",
       "      <td>249.415692</td>\n",
       "    </tr>\n",
       "    <tr>\n",
       "      <th>93</th>\n",
       "      <td>558</td>\n",
       "      <td>249.394686</td>\n",
       "    </tr>\n",
       "    <tr>\n",
       "      <th>94</th>\n",
       "      <td>564</td>\n",
       "      <td>249.374275</td>\n",
       "    </tr>\n",
       "    <tr>\n",
       "      <th>95</th>\n",
       "      <td>570</td>\n",
       "      <td>249.354481</td>\n",
       "    </tr>\n",
       "  </tbody>\n",
       "</table>\n",
       "<p>96 rows × 2 columns</p>\n",
       "</div>"
      ],
      "text/plain": [
       "     Id       Close\n",
       "0     0  265.882059\n",
       "1     6  265.370270\n",
       "2    12  264.821342\n",
       "3    18  264.246390\n",
       "4    24  263.646043\n",
       "..  ...         ...\n",
       "91  546  249.437241\n",
       "92  552  249.415692\n",
       "93  558  249.394686\n",
       "94  564  249.374275\n",
       "95  570  249.354481\n",
       "\n",
       "[96 rows x 2 columns]"
      ]
     },
     "execution_count": 62,
     "metadata": {},
     "output_type": "execute_result"
    }
   ],
   "source": [
    "company_0"
   ]
  },
  {
   "cell_type": "code",
   "execution_count": 63,
   "metadata": {},
   "outputs": [],
   "source": [
    "company_0.to_csv('c_0.csv')"
   ]
  },
  {
   "cell_type": "code",
   "execution_count": 70,
   "metadata": {},
   "outputs": [],
   "source": [
    "inverted_y_train = scaler.inverse_transform(y_train)"
   ]
  },
  {
   "cell_type": "code",
   "execution_count": 71,
   "metadata": {},
   "outputs": [
    {
     "data": {
      "text/plain": [
       "[<matplotlib.lines.Line2D at 0x254aaf3ed10>]"
      ]
     },
     "execution_count": 71,
     "metadata": {},
     "output_type": "execute_result"
    },
    {
     "data": {
      "image/png": "[encoded data removed]",
      "text/plain": [
       "<Figure size 640x480 with 1 Axes>"
      ]
     },
     "metadata": {},
     "output_type": "display_data"
    }
   ],
   "source": [
    "import matplotlib.pyplot as plt\n",
    "plt.plot(inverted_y_train)\n",
    "plt.plot(final_output)"
   ]
  },
  {
   "cell_type": "code",
   "execution_count": null,
   "metadata": {},
   "outputs": [],
   "source": []
  }
 ],
 "metadata": {
  "kernelspec": {
   "display_name": "cuda_torch",
   "language": "python",
   "name": "python3"
  },
  "language_info": {
   "codemirror_mode": {
    "name": "ipython",
    "version": 3
   },
   "file_extension": ".py",
   "mimetype": "text/x-python",
   "name": "python",
   "nbconvert_exporter": "python",
   "pygments_lexer": "ipython3",
   "version": "3.11.5"
  }
 },
 "nbformat": 4,
 "nbformat_minor": 2
}
